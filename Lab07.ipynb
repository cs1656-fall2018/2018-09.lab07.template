{
 "cells": [
  {
   "cell_type": "markdown",
   "metadata": {},
   "source": [
    "# CS 1656 – Introduction to Data Science \n",
    "\n",
    "## Instructor: Alexandros Labrinidis / Teaching Assistant: Tahereh Arabghalizi\n",
    "### Additional credits: Phuong Pham, Zuha Agha, Anatoli Shein\n",
    "## Lab 07: Collaborative Filtering & Similarity Metrics\n",
    "---\n",
    "In this lab we will be doing a fun exercise to implement collaborative filtering for recommender systems. We will also learn how the choice of similarity metric in collaborative filtering can affect its output of predicted ratings. \n",
    "\n",
    "Packages you will need for the lab are,\n",
    "\n",
    "* pandas\n",
    "* numpy\n",
    "* scipy\n",
    "\n",
    "Recall that numpy package provides nd-arrays and operations for easily manipulating them. \n",
    "Likewise, scipy provides an addtional suite of useful mathematical functions and distributions for numpy arrays, including distance functions which we will use in this lab to compute the measure of similarity. We will only import the distance funcions we need for today's session as shown below. Note that cityblock is just another name for Manhattan distance metric seen in class."
   ]
  },
  {
   "cell_type": "code",
   "execution_count": 1,
   "metadata": {},
   "outputs": [],
   "source": [
    "import pandas as pd\n",
    "import numpy as np\n",
    "from scipy.spatial.distance import euclidean, cityblock, cosine\n",
    "from scipy.stats import pearsonr"
   ]
  },
  {
   "cell_type": "markdown",
   "metadata": {},
   "source": [
    "## User-Based vs Item-Based Recommendation\n",
    "There are two type of collaborative filtering method: user-based and item-based.\n",
    "\n",
    "User-based recommendation assumes that similar users give similar ratings to each item. Whereas item-based recommendation assumes that similar items receive similar ratings from each user. You can think of them as a dual of each other. \n",
    "\n",
    "In this lab, we will walk through a toy example for user-based recommendation and you will try out item-based recommendation later in one of your tasks. \n",
    "\n",
    "## Data Input"
   ]
  },
  {
   "cell_type": "code",
   "execution_count": 2,
   "metadata": {},
   "outputs": [
    {
     "data": {
      "text/html": [
       "<div>\n",
       "<style scoped>\n",
       "    .dataframe tbody tr th:only-of-type {\n",
       "        vertical-align: middle;\n",
       "    }\n",
       "\n",
       "    .dataframe tbody tr th {\n",
       "        vertical-align: top;\n",
       "    }\n",
       "\n",
       "    .dataframe thead th {\n",
       "        text-align: right;\n",
       "    }\n",
       "</style>\n",
       "<table border=\"1\" class=\"dataframe\">\n",
       "  <thead>\n",
       "    <tr style=\"text-align: right;\">\n",
       "      <th></th>\n",
       "      <th>Name</th>\n",
       "      <th>Alice</th>\n",
       "      <th>Bob</th>\n",
       "      <th>Christine</th>\n",
       "      <th>David</th>\n",
       "      <th>Elaine</th>\n",
       "      <th>Frank</th>\n",
       "    </tr>\n",
       "  </thead>\n",
       "  <tbody>\n",
       "    <tr>\n",
       "      <th>0</th>\n",
       "      <td>The Matrix</td>\n",
       "      <td>2</td>\n",
       "      <td>3.0</td>\n",
       "      <td>4</td>\n",
       "      <td>5.0</td>\n",
       "      <td>5.0</td>\n",
       "      <td>NaN</td>\n",
       "    </tr>\n",
       "    <tr>\n",
       "      <th>1</th>\n",
       "      <td>Gone with the Wind</td>\n",
       "      <td>5</td>\n",
       "      <td>NaN</td>\n",
       "      <td>5</td>\n",
       "      <td>NaN</td>\n",
       "      <td>3.0</td>\n",
       "      <td>3.0</td>\n",
       "    </tr>\n",
       "    <tr>\n",
       "      <th>2</th>\n",
       "      <td>Jack and Jill</td>\n",
       "      <td>2</td>\n",
       "      <td>1.0</td>\n",
       "      <td>2</td>\n",
       "      <td>2.0</td>\n",
       "      <td>1.0</td>\n",
       "      <td>1.0</td>\n",
       "    </tr>\n",
       "    <tr>\n",
       "      <th>3</th>\n",
       "      <td>Planes</td>\n",
       "      <td>4</td>\n",
       "      <td>4.0</td>\n",
       "      <td>5</td>\n",
       "      <td>2.0</td>\n",
       "      <td>NaN</td>\n",
       "      <td>3.0</td>\n",
       "    </tr>\n",
       "    <tr>\n",
       "      <th>4</th>\n",
       "      <td>Rocky IV</td>\n",
       "      <td>2</td>\n",
       "      <td>2.0</td>\n",
       "      <td>3</td>\n",
       "      <td>4.0</td>\n",
       "      <td>3.0</td>\n",
       "      <td>NaN</td>\n",
       "    </tr>\n",
       "  </tbody>\n",
       "</table>\n",
       "</div>"
      ],
      "text/plain": [
       "                 Name  Alice  Bob  Christine  David  Elaine  Frank\n",
       "0          The Matrix      2  3.0          4    5.0     5.0    NaN\n",
       "1  Gone with the Wind      5  NaN          5    NaN     3.0    3.0\n",
       "2       Jack and Jill      2  1.0          2    2.0     1.0    1.0\n",
       "3              Planes      4  4.0          5    2.0     NaN    3.0\n",
       "4            Rocky IV      2  2.0          3    4.0     3.0    NaN"
      ]
     },
     "execution_count": 2,
     "metadata": {},
     "output_type": "execute_result"
    }
   ],
   "source": [
    "df = pd.read_csv('http://data.cs1656.org/movies_example.csv')\n",
    "df"
   ]
  },
  {
   "cell_type": "markdown",
   "metadata": {},
   "source": [
    "### Accessing rows in dataframe"
   ]
  },
  {
   "cell_type": "markdown",
   "metadata": {},
   "source": [
    "The two ways to access dataframes rows are shown below,"
   ]
  },
  {
   "cell_type": "code",
   "execution_count": 3,
   "metadata": {},
   "outputs": [
    {
     "data": {
      "text/html": [
       "<div>\n",
       "<style scoped>\n",
       "    .dataframe tbody tr th:only-of-type {\n",
       "        vertical-align: middle;\n",
       "    }\n",
       "\n",
       "    .dataframe tbody tr th {\n",
       "        vertical-align: top;\n",
       "    }\n",
       "\n",
       "    .dataframe thead th {\n",
       "        text-align: right;\n",
       "    }\n",
       "</style>\n",
       "<table border=\"1\" class=\"dataframe\">\n",
       "  <thead>\n",
       "    <tr style=\"text-align: right;\">\n",
       "      <th></th>\n",
       "      <th>Name</th>\n",
       "      <th>Alice</th>\n",
       "      <th>Bob</th>\n",
       "      <th>Christine</th>\n",
       "      <th>David</th>\n",
       "      <th>Elaine</th>\n",
       "      <th>Frank</th>\n",
       "    </tr>\n",
       "  </thead>\n",
       "  <tbody>\n",
       "    <tr>\n",
       "      <th>0</th>\n",
       "      <td>The Matrix</td>\n",
       "      <td>2</td>\n",
       "      <td>3.0</td>\n",
       "      <td>4</td>\n",
       "      <td>5.0</td>\n",
       "      <td>5.0</td>\n",
       "      <td>NaN</td>\n",
       "    </tr>\n",
       "  </tbody>\n",
       "</table>\n",
       "</div>"
      ],
      "text/plain": [
       "         Name  Alice  Bob  Christine  David  Elaine  Frank\n",
       "0  The Matrix      2  3.0          4    5.0     5.0    NaN"
      ]
     },
     "execution_count": 3,
     "metadata": {},
     "output_type": "execute_result"
    }
   ],
   "source": [
    "# First way\n",
    "df[df['Name'] == 'The Matrix']"
   ]
  },
  {
   "cell_type": "code",
   "execution_count": 5,
   "metadata": {},
   "outputs": [
    {
     "data": {
      "text/plain": [
       "Name         The Matrix\n",
       "Alice                 2\n",
       "Bob                   3\n",
       "Christine             4\n",
       "David                 5\n",
       "Elaine                5\n",
       "Frank               NaN\n",
       "Name: 0, dtype: object"
      ]
     },
     "execution_count": 5,
     "metadata": {},
     "output_type": "execute_result"
    }
   ],
   "source": [
    "# Second way\n",
    "df.iloc[0]"
   ]
  },
  {
   "cell_type": "markdown",
   "metadata": {},
   "source": [
    "### Missing values in data frame"
   ]
  },
  {
   "cell_type": "markdown",
   "metadata": {},
   "source": [
    "To exlude missing values or NaNs in a dataframe, we can use the notnull() function."
   ]
  },
  {
   "cell_type": "code",
   "execution_count": 6,
   "metadata": {},
   "outputs": [
    {
     "data": {
      "text/plain": [
       "0    False\n",
       "1     True\n",
       "2     True\n",
       "3     True\n",
       "4    False\n",
       "Name: Frank, dtype: bool"
      ]
     },
     "execution_count": 6,
     "metadata": {},
     "output_type": "execute_result"
    }
   ],
   "source": [
    "df['Frank'].notnull()"
   ]
  },
  {
   "cell_type": "code",
   "execution_count": 7,
   "metadata": {},
   "outputs": [
    {
     "data": {
      "text/plain": [
       "0     True\n",
       "1     True\n",
       "2     True\n",
       "3    False\n",
       "4     True\n",
       "Name: Elaine, dtype: bool"
      ]
     },
     "execution_count": 7,
     "metadata": {},
     "output_type": "execute_result"
    }
   ],
   "source": [
    "df['Elaine'].notnull()"
   ]
  },
  {
   "cell_type": "markdown",
   "metadata": {},
   "source": [
    "You can also perform logical operations on the boolean object returned as shown below,"
   ]
  },
  {
   "cell_type": "code",
   "execution_count": 8,
   "metadata": {},
   "outputs": [
    {
     "data": {
      "text/plain": [
       "0    False\n",
       "1     True\n",
       "2     True\n",
       "3    False\n",
       "4    False\n",
       "dtype: bool"
      ]
     },
     "execution_count": 8,
     "metadata": {},
     "output_type": "execute_result"
    }
   ],
   "source": [
    "df['Frank'].notnull() & df['Elaine'].notnull()"
   ]
  },
  {
   "cell_type": "markdown",
   "metadata": {},
   "source": [
    "You can also select subset of rows and columns where the boolean value is True."
   ]
  },
  {
   "cell_type": "code",
   "execution_count": 9,
   "metadata": {},
   "outputs": [
    {
     "data": {
      "text/html": [
       "<div>\n",
       "<style scoped>\n",
       "    .dataframe tbody tr th:only-of-type {\n",
       "        vertical-align: middle;\n",
       "    }\n",
       "\n",
       "    .dataframe tbody tr th {\n",
       "        vertical-align: top;\n",
       "    }\n",
       "\n",
       "    .dataframe thead th {\n",
       "        text-align: right;\n",
       "    }\n",
       "</style>\n",
       "<table border=\"1\" class=\"dataframe\">\n",
       "  <thead>\n",
       "    <tr style=\"text-align: right;\">\n",
       "      <th></th>\n",
       "      <th>Frank</th>\n",
       "      <th>Elaine</th>\n",
       "    </tr>\n",
       "  </thead>\n",
       "  <tbody>\n",
       "    <tr>\n",
       "      <th>1</th>\n",
       "      <td>3.0</td>\n",
       "      <td>3.0</td>\n",
       "    </tr>\n",
       "    <tr>\n",
       "      <th>2</th>\n",
       "      <td>1.0</td>\n",
       "      <td>1.0</td>\n",
       "    </tr>\n",
       "  </tbody>\n",
       "</table>\n",
       "</div>"
      ],
      "text/plain": [
       "   Frank  Elaine\n",
       "1    3.0     3.0\n",
       "2    1.0     1.0"
      ]
     },
     "execution_count": 9,
     "metadata": {},
     "output_type": "execute_result"
    }
   ],
   "source": [
    "df_notmissing = df[['Frank','Elaine']][df['Frank'].notnull() & df['Elaine'].notnull()]\n",
    "df_notmissing"
   ]
  },
  {
   "cell_type": "markdown",
   "metadata": {},
   "source": [
    "## Similarity Metrics & Predicted Ratings\n",
    "Different distance metrics can be used to measure the similarity. In this lab, we will use Euclidean, Manhattan, Pearson Correlation and Cosine distance metrics to measure the similarity.\n",
    "\n",
    "### Euclidean "
   ]
  },
  {
   "cell_type": "code",
   "execution_count": 11,
   "metadata": {},
   "outputs": [
    {
     "name": "stdout",
     "output_type": "stream",
     "text": [
      "similarity weights: {'Alice': 0.28989794855663564, 'Bob': 0.5, 'Christine': 0.25, 'David': 0.4142135623730951, 'Elaine': 1.0}\n"
     ]
    }
   ],
   "source": [
    "sim_weights = {}\n",
    "for user in df.columns[1:-1]:\n",
    "    df_subset = df[['Frank',user]][df['Frank'].notnull() & df[user].notnull()]\n",
    "    dist = euclidean(df_subset['Frank'], df_subset[user])\n",
    "    sim_weights[user] = 1.0 / (1.0 + dist)\n",
    "print (\"similarity weights: %s\" % sim_weights)"
   ]
  },
  {
   "cell_type": "markdown",
   "metadata": {},
   "source": [
    "Now let's find the predicted rating of 'Frank' for 'The Matrix'. We can get all ratings for a movie by accessing a row of the dataframe using iloc learnt earlier. We only slice the columns of ratings we need indicated by the index [1:-1]. In this case we do not need the first column 'Name' and the last column 'Frank'."
   ]
  },
  {
   "cell_type": "code",
   "execution_count": 12,
   "metadata": {},
   "outputs": [
    {
     "data": {
      "text/plain": [
       "Alice        2\n",
       "Bob          3\n",
       "Christine    4\n",
       "David        5\n",
       "Elaine       5\n",
       "Name: 0, dtype: object"
      ]
     },
     "execution_count": 12,
     "metadata": {},
     "output_type": "execute_result"
    }
   ],
   "source": [
    "ratings = df.iloc[0][1:-1]\n",
    "ratings"
   ]
  },
  {
   "cell_type": "markdown",
   "metadata": {},
   "source": [
    "Now we will find our predicted rating by multiplying each user weight with its corresponding rating for the movie matrix."
   ]
  },
  {
   "cell_type": "code",
   "execution_count": 13,
   "metadata": {},
   "outputs": [
    {
     "name": "stdout",
     "output_type": "stream",
     "text": [
      "predicted rating: 4.136268\n"
     ]
    }
   ],
   "source": [
    "predicted_rating = 0.0\n",
    "weights_sum = 0.0\n",
    "for user in df.columns[1:-1]:\n",
    "    predicted_rating += ratings[user] * sim_weights[user]\n",
    "    weights_sum += sim_weights[user]\n",
    "\n",
    "predicted_rating /= weights_sum\n",
    "print (\"predicted rating: %f\" % predicted_rating)"
   ]
  },
  {
   "cell_type": "markdown",
   "metadata": {},
   "source": [
    "### Manhattan (Cityblock)"
   ]
  },
  {
   "cell_type": "markdown",
   "metadata": {},
   "source": [
    "We repeat our method of finding predicted rating using cityblock distance now."
   ]
  },
  {
   "cell_type": "code",
   "execution_count": 14,
   "metadata": {},
   "outputs": [
    {
     "name": "stdout",
     "output_type": "stream",
     "text": [
      "similarity weights: {'Alice': 0.2, 'Bob': 0.5, 'Christine': 0.16666666666666666, 'David': 0.3333333333333333, 'Elaine': 1.0}\n",
      "predicted rating: 4.196970\n"
     ]
    }
   ],
   "source": [
    "sim_weights = {}\n",
    "for user in df.columns[1:-1]:\n",
    "    df_subset = df[['Frank',user]][df['Frank'].notnull() & df[user].notnull()]\n",
    "    dist = cityblock(df_subset['Frank'], df_subset[user])\n",
    "    sim_weights[user] = 1.0 / (1.0 + dist)\n",
    "print (\"similarity weights: %s\" % sim_weights)\n",
    "\n",
    "predicted_rating = 0\n",
    "weights_sum = 0.0\n",
    "ratings = df.iloc[0][1:-1]\n",
    "for user in df.columns[1:-1]:\n",
    "    predicted_rating += ratings[user] * sim_weights[user]\n",
    "    weights_sum += sim_weights[user]\n",
    "\n",
    "predicted_rating /= weights_sum\n",
    "print (\"predicted rating: %f\" % predicted_rating)"
   ]
  },
  {
   "cell_type": "markdown",
   "metadata": {},
   "source": [
    "### Pearson Correlation Coefficient"
   ]
  },
  {
   "cell_type": "code",
   "execution_count": 15,
   "metadata": {},
   "outputs": [
    {
     "name": "stdout",
     "output_type": "stream",
     "text": [
      "similarity weights: {'Alice': 0.944911182523068, 'Bob': 1.0, 'Christine': 1.0, 'David': nan, 'Elaine': 1.0}\n",
      "predicted rating: nan\n"
     ]
    },
    {
     "name": "stderr",
     "output_type": "stream",
     "text": [
      "C:\\Users\\Tahereh\\Anaconda3\\lib\\site-packages\\scipy\\stats\\stats.py:3003: RuntimeWarning: invalid value encountered in double_scalars\n",
      "  r = r_num / r_den\n",
      "C:\\Users\\Tahereh\\Anaconda3\\lib\\site-packages\\scipy\\stats\\stats.py:5240: RuntimeWarning: invalid value encountered in less\n",
      "  x = np.where(x < 1.0, x, 1.0)  # if x > 1 then return 1.0\n"
     ]
    }
   ],
   "source": [
    "sim_weights = {}\n",
    "for user in df.columns[1:-1]:\n",
    "    df_subset = df[['Frank',user]][df['Frank'].notnull() & df[user].notnull()]\n",
    "    sim_weights[user] = pearsonr(df_subset['Frank'], df_subset[user])[0]\n",
    "print (\"similarity weights: %s\" % sim_weights)\n",
    "\n",
    "predicted_rating = 0.0\n",
    "weights_sum = 0.0\n",
    "ratings = df.iloc[0][1:-1]\n",
    "for user in df.columns[1:-1]:\n",
    "    predicted_rating += ratings[user] * sim_weights[user]\n",
    "    weights_sum += sim_weights[user]\n",
    "\n",
    "predicted_rating /= weights_sum\n",
    "print (\"predicted rating: %s\" % predicted_rating)"
   ]
  },
  {
   "cell_type": "markdown",
   "metadata": {},
   "source": [
    "Why nan?\n",
    "Because anything divided by 0 is undefined. Computing it again with this modfication gives the following."
   ]
  },
  {
   "cell_type": "code",
   "execution_count": 16,
   "metadata": {},
   "outputs": [
    {
     "name": "stdout",
     "output_type": "stream",
     "text": [
      "predicted rating: 3.520947\n"
     ]
    }
   ],
   "source": [
    "predicted_rating = 0.0\n",
    "weights_sum = 0.0\n",
    "ratings = df.iloc[0][1:-1]\n",
    "for user in df.columns[1:-1]:\n",
    "    if (not np.isnan(sim_weights[user])):\n",
    "        predicted_rating += ratings[user] * sim_weights[user]\n",
    "        weights_sum += sim_weights[user]\n",
    "\n",
    "predicted_rating /= weights_sum\n",
    "print (\"predicted rating: %f\" % predicted_rating)"
   ]
  },
  {
   "cell_type": "markdown",
   "metadata": {},
   "source": [
    "## Tasks\n",
    "For your tasks, use the class movie ratings data we collected in http://data.cs1656.org/movie_class_responses.csv. It will be fun to predict your misisng movie ratings by using ratings of your peers who share a similar taste in movies with you. "
   ]
  },
  {
   "cell_type": "markdown",
   "metadata": {},
   "source": [
    "** Task 1: User-based Recommendation with Cosine Metric**\n",
    "\n",
    "Use movie ratings provided by the class to calculate ALL your missing movie ratingings using user-based recommendation with Cosine Metric."
   ]
  },
  {
   "cell_type": "markdown",
   "metadata": {},
   "source": [
    "** Task 2: Item-based Recommendation with Cosine Metric**\n",
    "\n",
    "Repeat the task above by doing an item-based recommendation instead of a user based recommendation. To calculate a missing movie rating using item-based recommendation, you are supposed to find similarity between movies instead of users. In other words, you measure the similarity of your missing rating movie with movies that you have rated in the past. Then compute a weighted average using similar movie weights and their ratings to find out the predicted rating. You need to predict ALL your missing movie ratingings again."
   ]
  },
  {
   "cell_type": "markdown",
   "metadata": {},
   "source": [
    "** Task 3: User-based Recommendation with Cosine Metric**\n",
    "\n",
    "Repeat Task 1 while computing the weighted average using just top 10 most similar users instead of all users."
   ]
  }
 ],
 "metadata": {
  "anaconda-cloud": {},
  "kernelspec": {
   "display_name": "Python 3",
   "language": "python",
   "name": "python3"
  },
  "language_info": {
   "codemirror_mode": {
    "name": "ipython",
    "version": 3
   },
   "file_extension": ".py",
   "mimetype": "text/x-python",
   "name": "python",
   "nbconvert_exporter": "python",
   "pygments_lexer": "ipython3",
   "version": "3.6.4"
  }
 },
 "nbformat": 4,
 "nbformat_minor": 1
}
